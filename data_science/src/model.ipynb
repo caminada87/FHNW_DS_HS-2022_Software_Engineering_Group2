{
 "cells": [
  {
   "cell_type": "code",
   "execution_count": 66,
   "outputs": [],
   "source": [
    "import pickle\n",
    "import pandas as pd\n",
    "import numpy as np\n",
    "from sklearn.model_selection import train_test_split\n",
    "from sklearn.metrics import mean_absolute_percentage_error\n",
    "from sklearn.ensemble import GradientBoostingRegressor\n",
    "from sklearn.preprocessing import OneHotEncoder\n",
    "from sklearn.compose import make_column_transformer\n",
    "from sklearn.pipeline import Pipeline\n",
    "from sklearn.tree import DecisionTreeRegressor"
   ],
   "metadata": {
    "collapsed": false,
    "pycharm": {
     "name": "#%%\n"
    }
   }
  },
  {
   "cell_type": "code",
   "execution_count": 48,
   "outputs": [
    {
     "data": {
      "text/plain": "(17836, 8)"
     },
     "execution_count": 48,
     "metadata": {},
     "output_type": "execute_result"
    }
   ],
   "source": [
    "# Load the train data\n",
    "df = pd.read_csv('../data/houses_train_analysed.csv', index_col=0)\n",
    "df.shape"
   ],
   "metadata": {
    "collapsed": false,
    "pycharm": {
     "name": "#%%\n"
    }
   }
  },
  {
   "cell_type": "code",
   "execution_count": 49,
   "outputs": [
    {
     "data": {
      "text/plain": "                lat  zipcode municipality_name  object_type_name  build_year  \\\nlong                                                                           \n9.066771  47.038963     8750            Glarus           Wohnung        1981   \n8.522013  47.097042     6318          Walchwil           Wohnung        2018   \n7.774141  47.429871     4434          Hölstein  Mehrfamilienhaus        2007   \n\n          living_area  num_rooms      price  \nlong                                         \n9.066771        134.0        4.0   380000.0  \n8.522013        113.0        3.0  1195000.0  \n7.774141        194.0        5.0   880000.0  ",
      "text/html": "<div>\n<style scoped>\n    .dataframe tbody tr th:only-of-type {\n        vertical-align: middle;\n    }\n\n    .dataframe tbody tr th {\n        vertical-align: top;\n    }\n\n    .dataframe thead th {\n        text-align: right;\n    }\n</style>\n<table border=\"1\" class=\"dataframe\">\n  <thead>\n    <tr style=\"text-align: right;\">\n      <th></th>\n      <th>lat</th>\n      <th>zipcode</th>\n      <th>municipality_name</th>\n      <th>object_type_name</th>\n      <th>build_year</th>\n      <th>living_area</th>\n      <th>num_rooms</th>\n      <th>price</th>\n    </tr>\n    <tr>\n      <th>long</th>\n      <th></th>\n      <th></th>\n      <th></th>\n      <th></th>\n      <th></th>\n      <th></th>\n      <th></th>\n      <th></th>\n    </tr>\n  </thead>\n  <tbody>\n    <tr>\n      <th>9.066771</th>\n      <td>47.038963</td>\n      <td>8750</td>\n      <td>Glarus</td>\n      <td>Wohnung</td>\n      <td>1981</td>\n      <td>134.0</td>\n      <td>4.0</td>\n      <td>380000.0</td>\n    </tr>\n    <tr>\n      <th>8.522013</th>\n      <td>47.097042</td>\n      <td>6318</td>\n      <td>Walchwil</td>\n      <td>Wohnung</td>\n      <td>2018</td>\n      <td>113.0</td>\n      <td>3.0</td>\n      <td>1195000.0</td>\n    </tr>\n    <tr>\n      <th>7.774141</th>\n      <td>47.429871</td>\n      <td>4434</td>\n      <td>Hölstein</td>\n      <td>Mehrfamilienhaus</td>\n      <td>2007</td>\n      <td>194.0</td>\n      <td>5.0</td>\n      <td>880000.0</td>\n    </tr>\n  </tbody>\n</table>\n</div>"
     },
     "execution_count": 49,
     "metadata": {},
     "output_type": "execute_result"
    }
   ],
   "source": [
    "df.head(3)"
   ],
   "metadata": {
    "collapsed": false,
    "pycharm": {
     "name": "#%%\n"
    }
   }
  },
  {
   "cell_type": "code",
   "execution_count": 50,
   "outputs": [],
   "source": [
    "# Split data into features and labels.\n",
    "X_data = df.drop(columns='price')\n",
    "y_data = df['price']"
   ],
   "metadata": {
    "collapsed": false,
    "pycharm": {
     "name": "#%%\n"
    }
   }
  },
  {
   "cell_type": "code",
   "execution_count": 51,
   "outputs": [],
   "source": [
    "# Split features and labels into train (X_train, y_train) and validation set (X_val, y_val).\n",
    "X_train, X_val, y_train, y_val = train_test_split(X_data, y_data, stratify=X_data['object_type_name'], test_size=0.1)"
   ],
   "metadata": {
    "collapsed": false,
    "pycharm": {
     "name": "#%%\n"
    }
   }
  },
  {
   "cell_type": "code",
   "execution_count": 52,
   "outputs": [],
   "source": [
    "def evaluate_model(model, X, y):\n",
    "    # Predict with the model the validation data.\n",
    "    y_pred = model.predict(X)\n",
    "\n",
    "    # How good are we on the validation data?\n",
    "    print(mean_absolute_percentage_error(y, y_pred))"
   ],
   "metadata": {
    "collapsed": false,
    "pycharm": {
     "name": "#%%\n"
    }
   }
  },
  {
   "cell_type": "markdown",
   "source": [
    "# Decision Tree"
   ],
   "metadata": {
    "collapsed": false,
    "pycharm": {
     "name": "#%% md\n"
    }
   }
  },
  {
   "cell_type": "code",
   "execution_count": 53,
   "outputs": [
    {
     "name": "stdout",
     "output_type": "stream",
     "text": [
      "0.27963788410016877\n"
     ]
    }
   ],
   "source": [
    "model = Pipeline([\n",
    "    ('ohe', make_column_transformer((OneHotEncoder(handle_unknown='ignore'), ['zipcode', 'municipality_name', 'object_type_name']), remainder='passthrough')),\n",
    "    ('reg', DecisionTreeRegressor())\n",
    "])\n",
    "\n",
    "# Train (fit) the model with the train data.\n",
    "_ = model.fit(X_train, y_train)\n",
    "\n",
    "# Evaluate and make submission\n",
    "evaluate_model(model, X_val, y_val)"
   ],
   "metadata": {
    "collapsed": false,
    "pycharm": {
     "name": "#%%\n"
    }
   }
  },
  {
   "cell_type": "code",
   "execution_count": 55,
   "outputs": [],
   "source": [
    "def single_pred(model, long:float, lat:float, zipcode: int, municipality_name: str, object_type_name: str, build_year:int, living_area:float, num_rooms:float) -> float:\n",
    "    data_frame= pd.DataFrame(data={'long': long, 'lat': lat, 'zipcode': zipcode, 'municipality_name': municipality_name, 'object_type_name': object_type_name, 'build_year': build_year, 'living_area': living_area, 'num_rooms': num_rooms}, index=[0])\n",
    "    return model.predict(data_frame)[0]"
   ],
   "metadata": {
    "collapsed": false,
    "pycharm": {
     "name": "#%%\n"
    }
   }
  },
  {
   "cell_type": "code",
   "execution_count": 64,
   "outputs": [],
   "source": [
    "\"\"\"\n",
    "TODO: Extend UI to be able to get lat and long from user\n",
    "INPUT ---\n",
    "long: float (MAP Interface)\n",
    "lat: float (MAP Interface)\n",
    "zipcode: int (MAP Interface)\n",
    "municipality_name: str (MAP Interface)\n",
    "oject_type_name: str (Drop Down - Wohnung, Einfamilienhaus, Mehrfamilienhaus, Sonstiges)\n",
    "build_year: int (1970-2022)\n",
    "living_area:int\n",
    "number_of_rooms:int\n",
    "\"\"\"\n",
    "long: float = 0.0\n",
    "lat: float  = 0.0\n",
    "zipcode: int = 5420\n",
    "municipality_name: str = 'Ehrendingen'\n",
    "object_type_name: str = 'Einfamilienhaus'\n",
    "build_year: int = 2000\n",
    "living_area: float = 200.0\n",
    "num_rooms: float = 7"
   ],
   "metadata": {
    "collapsed": false,
    "pycharm": {
     "name": "#%%\n"
    }
   }
  },
  {
   "cell_type": "code",
   "execution_count": 65,
   "outputs": [
    {
     "data": {
      "text/plain": "1750000.0"
     },
     "execution_count": 65,
     "metadata": {},
     "output_type": "execute_result"
    }
   ],
   "source": [
    "single_pred(model, long, lat, zipcode, municipality_name, object_type_name, build_year, living_area, num_rooms)"
   ],
   "metadata": {
    "collapsed": false,
    "pycharm": {
     "name": "#%%\n"
    }
   }
  },
  {
   "cell_type": "code",
   "execution_count": 67,
   "outputs": [],
   "source": [
    "################\n",
    "# Export model\n",
    "################\n",
    "# save the model to disk\n",
    "filename = '../model/decision_tree_model.sav'\n",
    "pickle.dump(model, open(filename, 'wb'))"
   ],
   "metadata": {
    "collapsed": false,
    "pycharm": {
     "name": "#%%\n"
    }
   }
  },
  {
   "cell_type": "code",
   "execution_count": null,
   "outputs": [],
   "source": [],
   "metadata": {
    "collapsed": false,
    "pycharm": {
     "name": "#%%\n"
    }
   }
  }
 ],
 "metadata": {
  "kernelspec": {
   "display_name": "Python 3",
   "language": "python",
   "name": "python3"
  },
  "language_info": {
   "codemirror_mode": {
    "name": "ipython",
    "version": 2
   },
   "file_extension": ".py",
   "mimetype": "text/x-python",
   "name": "python",
   "nbconvert_exporter": "python",
   "pygments_lexer": "ipython2",
   "version": "2.7.6"
  }
 },
 "nbformat": 4,
 "nbformat_minor": 0
}